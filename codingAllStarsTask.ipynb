{
 "cells": [
  {
   "cell_type": "markdown",
   "id": "f9e42379-2f53-4775-be0b-bfda7e855ef3",
   "metadata": {},
   "source": [
    "# Coding All Stars Task 1"
   ]
  },
  {
   "cell_type": "markdown",
   "id": "2d417fe1-ad6d-4762-b790-3e5edece4fd8",
   "metadata": {},
   "source": [
    "After copying the Class Central website using HTTrack and getting our local version, we want to read all the HTML files, gather all their contents, and translate them into Hindi.\n",
    "And this is our goal in creating this notebook.\n",
    "\n",
    "First, as mentioned, I used HTTrack to copy the website.\n",
    "Kindly note that some images can be blurry; but they are not lost. I'm expecting this is because I used `max depth` and `maximum external` depth parameters of 2, and these images may be located in more deep directories, or it may be a cost reduction mechanism by HTTrack to save project sizes and user memories.\n",
    "\n",
    "For HTML parsing and manipulation, I'll use the BeautifulSoup library, and for text translation, I'll use Google's translation API through the [deep-translator](https://pypi.org/project/deep-translator/) wrapper package."
   ]
  },
  {
   "cell_type": "markdown",
   "id": "efa18d7b-25d5-48a3-8a9b-599066ed28f7",
   "metadata": {},
   "source": [
    "## Importing Necessary Modules"
   ]
  },
  {
   "cell_type": "code",
   "execution_count": null,
   "id": "150981db-3f21-4e3c-b884-5588d8b2b140",
   "metadata": {
    "tags": []
   },
   "outputs": [],
   "source": [
    "from bs4 import BeautifulSoup\n",
    "import os\n",
    "from deep_translator import GoogleTranslator\n",
    "from textwrap import wrap\n",
    "from typing import List, Dict"
   ]
  },
  {
   "cell_type": "markdown",
   "id": "8f4099c0-e5c0-4916-afec-42fc2a97ed05",
   "metadata": {},
   "source": [
    "## Obtaining a list of all HTML file paths "
   ]
  },
  {
   "cell_type": "code",
   "execution_count": null,
   "id": "307b5ab8-f8b4-445d-8662-edc1e7602a12",
   "metadata": {
    "tags": []
   },
   "outputs": [],
   "source": [
    "root_directory = '/home/eyadshokry/Downloads/todo'\n",
    "\n",
    "def get_html_files_paths(root_dir: str) -> List[str]:\n",
    "    \"\"\"Takes directory path and returns all html files in the directory.\n",
    "\n",
    "    Args:\n",
    "      root_dir: Path of the directory that should be traversed.\n",
    "\n",
    "    Returns:\n",
    "      Array of all html files paths.\n",
    "    \"\"\"\n",
    "    html_files_list = []\n",
    "\n",
    "    for root, dir_names, filenames in os.walk(root_dir):\n",
    "        for filename in filenames:\n",
    "            if filename.endswith('.html'):\n",
    "                file_name = os.path.join(root, filename)\n",
    "                html_files_list.append(file_name)\n",
    "    return html_files_list\n",
    "\n",
    "html_files = get_html_files_paths(root_dir=root_directory)"
   ]
  },
  {
   "cell_type": "markdown",
   "id": "58c542b5-1291-4994-85f2-decf58adf6a9",
   "metadata": {},
   "source": [
    "## Writing a helper method to translate a string from English to Hindi using `deep_translator` package (Google Translator API wrapper package)"
   ]
  },
  {
   "cell_type": "code",
   "execution_count": null,
   "id": "868971c4-7fc2-4990-9bea-bc06b70339b6",
   "metadata": {
    "tags": []
   },
   "outputs": [],
   "source": [
    "# Helper method to check if the given text is in Hindi language.\n",
    "def is_hindi(text: str) -> bool:\n",
    "    \"\"\"Indicates if the given text is in Hindi language or not.\n",
    "\n",
    "    Args:\n",
    "      text: The text that should be detected.\n",
    "\n",
    "    Returns:\n",
    "      Boolean if the text is in Hindi language or not.\n",
    "    \"\"\"\n",
    "    max_char = max(text)\n",
    "    if u'\\u0900' <= max_char <= u'\\u097f':\n",
    "        return True\n",
    "    else:\n",
    "        return False"
   ]
  },
  {
   "cell_type": "code",
   "execution_count": null,
   "id": "e7853eca-13fd-4321-b52a-595f3932a97a",
   "metadata": {
    "tags": []
   },
   "outputs": [],
   "source": [
    "def translate_to_hindi(text) -> str:\n",
    "    \"\"\"Translates English text to its alternative in Hindi language.\n",
    "\n",
    "    Args:\n",
    "      text: The text that should be translated.\n",
    "\n",
    "    Returns:\n",
    "      Translated Hindi text.\n",
    "    \"\"\"\n",
    "    max_translation_count = 5000\n",
    "    \n",
    "    if isinstance(text, str):\n",
    "        if text.isdigit() or is_hindi(text):\n",
    "            return text\n",
    "                \n",
    "        if len(text) > max_translation_count:\n",
    "            # Handles max characters exceeded scenario\n",
    "            text_chunk = wrap(text, max_translation_count)\n",
    "            translated_chunk = GoogleTranslator(source='en', target='hi').translate_batch(text_chunk)\n",
    "            return ' '.join(translated_chunk)\n",
    "        else:\n",
    "            return GoogleTranslator(source='en', target='hi').translate(text)"
   ]
  },
  {
   "cell_type": "code",
   "execution_count": null,
   "id": "ce66252c-43d4-4865-ba29-c559f9018d8f",
   "metadata": {
    "tags": []
   },
   "outputs": [],
   "source": [
    "translate_to_hindi(\".\")"
   ]
  },
  {
   "cell_type": "markdown",
   "id": "5de80336-6140-4d83-91db-7d9c715686a7",
   "metadata": {},
   "source": [
    "## Finding all the texts in HTML files and replacing them with the translated version"
   ]
  },
  {
   "cell_type": "markdown",
   "id": "ef515a4c-e63f-4cbe-aeb2-5bd3b1055216",
   "metadata": {
    "tags": []
   },
   "source": [
    "#### BeautifulSoup library issue\n",
    "Please note that, in some cases, BeautifulSoup fails to find all the desired texts. It mainly happens in nested tags.\n",
    "\n",
    "Example:\n",
    "\n",
    "```html\n",
    "<h2 class=\"head-2 medium-up-head-1 row horz-align-center vert-align-middle text-center margin-bottom-xsmall\" style=\"color: #EA5918;\">\n",
    "    <svg class=\"margin-right-xsmall\" fill=\"none\" viewbox=\"0 0 54 40\" width=\"45\" xmlns=\"http://www.w3.org/2000/svg\">\n",
    "        <path d=\"M0 0L54 1.11315e-05L54 39.0034L0 39.0034L16.1273 19.4042L0 0Z\" fill=\"#0D4DF1\">\n",
    "        </path>\n",
    "        <path d=\"M38.9577 22.0208C38.803 21.5515 38.9607 21.0248 39.3365 20.7552L43.5606 17.7255C44.3595 17.1525 43.9976 15.7647 43.0494 15.7647H37.5488C37.1516 15.7647 36.7965 15.4873 36.6587 15.0695L34.8884 9.69909C34.5829 8.77218 33.4139 8.77218 33.1084 9.69909L31.3381 15.0695C31.2003 15.4873 30.8452 15.7647 30.448 15.7647H24.9506C24.0021 15.7647 23.6405 17.1531 24.4398 17.7258L28.668 20.7549C29.0444 21.0245 29.2021 21.5521 29.0469 22.0217L27.3984 27.007C27.082 27.9641 28.0321 28.8234 28.7991 28.2738L33.4875 24.914C33.799 24.6908 34.1978 24.6908 34.5093 24.914L39.2017 28.2766C39.9683 28.826 40.9181 27.9678 40.6026 27.0108L38.9577 22.0208Z\" fill=\"white\">\n",
    "         </path>\n",
    "    </svg>\n",
    "        Rankings\n",
    "</h2>\n",
    "```\n",
    "The `Rankings` string here won't be captured by the BeautfulSoup library. So, it won't be replaced automatically.\n",
    "This issue is well-known in the community. Please take a look at [this thread](https://stackoverflow.com/questions/31958637/beautifulsoup-search-by-text-inside-a-tag).\n",
    "\n",
    "I implemented a workaround `parse_nested_tags` recursive method, to get rid of this problem. Please take a look at [this solution](https://stackoverflow.com/questions/73377105/how-to-translate-html-file-contents-into-another-language)."
   ]
  },
  {
   "cell_type": "code",
   "execution_count": null,
   "id": "dc1832da-94aa-4239-ba6d-06073d952a51",
   "metadata": {
    "tags": []
   },
   "outputs": [],
   "source": [
    "def parse_nested_tags(soup_list: List[any], excluded_tags: List[str], translated_words: Dict):\n",
    "    \"\"\"Parses the nested tags recursively to access their texts.\n",
    "\n",
    "    Args:\n",
    "      soup_list: List of tags that should be parsed.\n",
    "      excluded_tags: List of tags should be excluded from parsing and translating.\n",
    "      translated_words: Dictionary of pre translated words.\n",
    "    \"\"\"\n",
    "    for i in soup_list:\n",
    "        if i.name not in excluded_tags:\n",
    "            if i.string:\n",
    "                if i.string in translated_words:\n",
    "                    hindi = translated_words[i.string]\n",
    "                else:\n",
    "                    hindi = translate_to_hindi(i.string)                    \n",
    "                    translated_words[i.string] = hindi\n",
    "                if hindi is not None:\n",
    "                    i.string.replace_with(hindi)\n",
    "            elif i.text and i.contents:\n",
    "                parse_nested_tags(i.contents, excluded_tags=excluded_tags, translated_words=translated_words)\n",
    "\n",
    "\n",
    "def replace_html_file_text(file_path: str):    \n",
    "    \"\"\"Replaces HTML file to its Hindi language version.\n",
    "\n",
    "    Args:\n",
    "      file_path: The path of HTML file that should be translated.\n",
    "    \"\"\"\n",
    "\n",
    "    html_file = open(file_path, \"r+\")\n",
    "\n",
    "    # Reading HTML file\n",
    "    contents = html_file.read()\n",
    "\n",
    "    # Creating a BeautifulSoup object and specifying the parser \n",
    "    soup = BeautifulSoup(contents, 'html.parser')\n",
    "\n",
    "    # Exclude not needed tags.\n",
    "    excluded_tags = ['style', 'script', 'head', 'meta', '[document]', 'img']\n",
    "\n",
    "    try:\n",
    "        parse_nested_tags(soup_list=soup.find_all(), excluded_tags=excluded_tags, translated_words={})\n",
    "    except:\n",
    "        print(\"******************** Error Aborted ********************\")\n",
    "    finally:\n",
    "        translated_html = soup.prettify('utf-8')\n",
    "        with open(file_path, \"wb\") as output_file:\n",
    "            output_file.write(translated_html)\n",
    "\n",
    " \n",
    "for file in html_files:\n",
    "    print(\"**** File Path ****\")\n",
    "    print(file)\n",
    "    print(\"*******************\")\n",
    "    replace_html_file_text(file_path=file)"
   ]
  }
 ],
 "metadata": {
  "kernelspec": {
   "display_name": "Python 3 (ipykernel)",
   "language": "python",
   "name": "python3"
  },
  "language_info": {
   "codemirror_mode": {
    "name": "ipython",
    "version": 3
   },
   "file_extension": ".py",
   "mimetype": "text/x-python",
   "name": "python",
   "nbconvert_exporter": "python",
   "pygments_lexer": "ipython3",
   "version": "3.8.10"
  }
 },
 "nbformat": 4,
 "nbformat_minor": 5
}